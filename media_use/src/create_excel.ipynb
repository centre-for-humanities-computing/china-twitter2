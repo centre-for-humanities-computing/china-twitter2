{
 "cells": [
  {
   "cell_type": "code",
   "execution_count": 1,
   "metadata": {},
   "outputs": [],
   "source": [
    "import pandas as pd\n",
    "import openpyxl\n",
    "import os"
   ]
  },
  {
   "attachments": {},
   "cell_type": "markdown",
   "metadata": {},
   "source": [
    "## Notebook description\n",
    "This jupyter notebook is used to create some wanted excel files from the data. These files contain certain subsets of the data, such the most retweeted images by diplomats, or the most retweeted images by the media profiles. "
   ]
  },
  {
   "cell_type": "code",
   "execution_count": 6,
   "metadata": {},
   "outputs": [
    {
     "data": {
      "text/html": [
       "<div>\n",
       "<style scoped>\n",
       "    .dataframe tbody tr th:only-of-type {\n",
       "        vertical-align: middle;\n",
       "    }\n",
       "\n",
       "    .dataframe tbody tr th {\n",
       "        vertical-align: top;\n",
       "    }\n",
       "\n",
       "    .dataframe thead th {\n",
       "        text-align: right;\n",
       "    }\n",
       "</style>\n",
       "<table border=\"1\" class=\"dataframe\">\n",
       "  <thead>\n",
       "    <tr style=\"text-align: right;\">\n",
       "      <th></th>\n",
       "      <th>created_at</th>\n",
       "      <th>lang</th>\n",
       "      <th>like_count</th>\n",
       "      <th>listed_count</th>\n",
       "      <th>photo</th>\n",
       "      <th>retweet</th>\n",
       "      <th>retweet_count</th>\n",
       "      <th>text</th>\n",
       "      <th>tweetID</th>\n",
       "      <th>url</th>\n",
       "      <th>username</th>\n",
       "      <th>video</th>\n",
       "      <th>category</th>\n",
       "    </tr>\n",
       "  </thead>\n",
       "  <tbody>\n",
       "    <tr>\n",
       "      <th>0</th>\n",
       "      <td>2021-02-28</td>\n",
       "      <td>ja</td>\n",
       "      <td>0.0</td>\n",
       "      <td>202.0</td>\n",
       "      <td>4.0</td>\n",
       "      <td>retweeted</td>\n",
       "      <td>6.0</td>\n",
       "      <td>江蘇省の南通市警察が電話やネット詐欺の常套手段を広めようと、覚えやすいスローガンをタピオカの...</td>\n",
       "      <td>1365928250216640513</td>\n",
       "      <td>https://pbs.twimg.com/media/EvMqkyrU4AATgdR.jp...</td>\n",
       "      <td>ChnConsul_osaka</td>\n",
       "      <td>0.0</td>\n",
       "      <td>Diplomat</td>\n",
       "    </tr>\n",
       "    <tr>\n",
       "      <th>1</th>\n",
       "      <td>2021-02-28</td>\n",
       "      <td>ja</td>\n",
       "      <td>0.0</td>\n",
       "      <td>202.0</td>\n",
       "      <td>0.0</td>\n",
       "      <td>retweeted</td>\n",
       "      <td>5.0</td>\n",
       "      <td>春節前日、山西省・天竜山石窟の第8窟北壁の仏像の頭部が、中央広播電視総台の春晩に登場。石仏の...</td>\n",
       "      <td>1365928192045764612</td>\n",
       "      <td>NaN</td>\n",
       "      <td>ChnConsul_osaka</td>\n",
       "      <td>0.0</td>\n",
       "      <td>Diplomat</td>\n",
       "    </tr>\n",
       "    <tr>\n",
       "      <th>2</th>\n",
       "      <td>2021-02-28</td>\n",
       "      <td>ja</td>\n",
       "      <td>0.0</td>\n",
       "      <td>202.0</td>\n",
       "      <td>0.0</td>\n",
       "      <td>retweeted</td>\n",
       "      <td>81.0</td>\n",
       "      <td>獅子舞の休憩時間に居眠りする可愛い獅子。（編集Ｍ） https://t.co/R78ZfYCoYm</td>\n",
       "      <td>1365928167873998848</td>\n",
       "      <td>NaN</td>\n",
       "      <td>ChnConsul_osaka</td>\n",
       "      <td>1.0</td>\n",
       "      <td>Diplomat</td>\n",
       "    </tr>\n",
       "    <tr>\n",
       "      <th>3</th>\n",
       "      <td>2021-02-28</td>\n",
       "      <td>ja</td>\n",
       "      <td>0.0</td>\n",
       "      <td>202.0</td>\n",
       "      <td>0.0</td>\n",
       "      <td>retweeted</td>\n",
       "      <td>7.0</td>\n",
       "      <td>【中国各地で元宵節のムード高まる】元宵節は、中国の伝統的な祝祭日の一つで、中国の人々はランタ...</td>\n",
       "      <td>1365927942304374784</td>\n",
       "      <td>NaN</td>\n",
       "      <td>ChnConsul_osaka</td>\n",
       "      <td>0.0</td>\n",
       "      <td>Diplomat</td>\n",
       "    </tr>\n",
       "    <tr>\n",
       "      <th>4</th>\n",
       "      <td>2021-02-28</td>\n",
       "      <td>ja</td>\n",
       "      <td>0.0</td>\n",
       "      <td>202.0</td>\n",
       "      <td>0.0</td>\n",
       "      <td>retweeted</td>\n",
       "      <td>9.0</td>\n",
       "      <td>【伝統の湯圓をユニークなデザインに】山東省青島市西海岸新区で可愛いキャラクターをデザインした...</td>\n",
       "      <td>1365927906896060418</td>\n",
       "      <td>NaN</td>\n",
       "      <td>ChnConsul_osaka</td>\n",
       "      <td>0.0</td>\n",
       "      <td>Diplomat</td>\n",
       "    </tr>\n",
       "  </tbody>\n",
       "</table>\n",
       "</div>"
      ],
      "text/plain": [
       "   created_at lang  like_count  listed_count  photo    retweet  retweet_count  \\\n",
       "0  2021-02-28   ja         0.0         202.0    4.0  retweeted            6.0   \n",
       "1  2021-02-28   ja         0.0         202.0    0.0  retweeted            5.0   \n",
       "2  2021-02-28   ja         0.0         202.0    0.0  retweeted           81.0   \n",
       "3  2021-02-28   ja         0.0         202.0    0.0  retweeted            7.0   \n",
       "4  2021-02-28   ja         0.0         202.0    0.0  retweeted            9.0   \n",
       "\n",
       "                                                text              tweetID  \\\n",
       "0  江蘇省の南通市警察が電話やネット詐欺の常套手段を広めようと、覚えやすいスローガンをタピオカの...  1365928250216640513   \n",
       "1  春節前日、山西省・天竜山石窟の第8窟北壁の仏像の頭部が、中央広播電視総台の春晩に登場。石仏の...  1365928192045764612   \n",
       "2  獅子舞の休憩時間に居眠りする可愛い獅子。（編集Ｍ） https://t.co/R78ZfYCoYm  1365928167873998848   \n",
       "3  【中国各地で元宵節のムード高まる】元宵節は、中国の伝統的な祝祭日の一つで、中国の人々はランタ...  1365927942304374784   \n",
       "4  【伝統の湯圓をユニークなデザインに】山東省青島市西海岸新区で可愛いキャラクターをデザインした...  1365927906896060418   \n",
       "\n",
       "                                                 url         username  video  \\\n",
       "0  https://pbs.twimg.com/media/EvMqkyrU4AATgdR.jp...  ChnConsul_osaka    0.0   \n",
       "1                                                NaN  ChnConsul_osaka    0.0   \n",
       "2                                                NaN  ChnConsul_osaka    1.0   \n",
       "3                                                NaN  ChnConsul_osaka    0.0   \n",
       "4                                                NaN  ChnConsul_osaka    0.0   \n",
       "\n",
       "   category  \n",
       "0  Diplomat  \n",
       "1  Diplomat  \n",
       "2  Diplomat  \n",
       "3  Diplomat  \n",
       "4  Diplomat  "
      ]
     },
     "execution_count": 6,
     "metadata": {},
     "output_type": "execute_result"
    }
   ],
   "source": [
    "# load the data\n",
    "data = pd.read_csv('media_info.csv')\n",
    "\n",
    "# split the data into the media and the diplomats\n",
    "media = data[data['category'] == 'Media'].reset_index(drop=True)\n",
    "data = data[data['category'] == 'Diplomat'].reset_index(drop=True)\n",
    "\n",
    "data.head()"
   ]
  },
  {
   "attachments": {},
   "cell_type": "markdown",
   "metadata": {},
   "source": [
    "# Diplomats\n",
    "## Videos"
   ]
  },
  {
   "cell_type": "code",
   "execution_count": 7,
   "metadata": {},
   "outputs": [],
   "source": [
    "video = data[data['video'] > 0].reset_index(drop=True)\n",
    "\n",
    "video = video.drop(columns = ['photo', 'url', 'tweetID', 'listed_count'])\n",
    "\n",
    "video_org = video[video['retweet'] != 'retweeted'].reset_index(drop=True)"
   ]
  },
  {
   "cell_type": "markdown",
   "metadata": {},
   "source": [
    "### most retweeted videos original tweets by diplomats"
   ]
  },
  {
   "cell_type": "code",
   "execution_count": 8,
   "metadata": {},
   "outputs": [],
   "source": [
    "video_org = video_org.sort_values('retweet_count', ascending = False)\n",
    "\n",
    "# write to excel\n",
    "video_org[:1000].to_excel(os.path.join('excel_sheets', 'most_retweeted_orginal_diplomat_videos.xlsx'), index=False)\n",
    "\n",
    "# only english\n",
    "video_org_en = video_org[video_org['lang'] == 'en']\n",
    "video_org_en[:1000].to_excel(os.path.join('excel_sheets', 'most_retweeted_orginal_diplomat_videos_en.xlsx'), index=False)"
   ]
  },
  {
   "attachments": {},
   "cell_type": "markdown",
   "metadata": {},
   "source": [
    "## Photos"
   ]
  },
  {
   "cell_type": "code",
   "execution_count": 9,
   "metadata": {},
   "outputs": [],
   "source": [
    "photo = data[data['photo'] > 0].reset_index(drop=True)\n",
    "\n",
    "photo = photo.drop(columns = ['video', 'tweetID', 'listed_count'])\n",
    "\n",
    "photo_org = photo[photo['retweet'] != 'retweeted'].reset_index(drop=True)"
   ]
  },
  {
   "cell_type": "markdown",
   "metadata": {},
   "source": [
    "### most retweeted photos orginal tweets by diplomats"
   ]
  },
  {
   "cell_type": "code",
   "execution_count": 10,
   "metadata": {},
   "outputs": [],
   "source": [
    "photo_org = photo_org.sort_values('retweet_count', ascending = False)\n",
    "\n",
    "# write to excel\n",
    "photo_org[:1000].to_excel(os.path.join('excel_sheets', 'most_retweeted_orginal_diplomat_photos.xlsx'), index=False)\n",
    "\n",
    "# only english\n",
    "photo_org_en = photo_org[photo_org['lang'] == 'en']\n",
    "photo_org_en[:1000].to_excel(os.path.join('excel_sheets', 'most_retweeted_orginal_diplomat_photos_en.xlsx'), index=False)"
   ]
  },
  {
   "attachments": {},
   "cell_type": "markdown",
   "metadata": {},
   "source": [
    "## No photos or videos"
   ]
  },
  {
   "cell_type": "code",
   "execution_count": 26,
   "metadata": {},
   "outputs": [],
   "source": [
    "no_media = data[(data['photo'] == 0) & (data['video'] == 0)].reset_index(drop=True)\n",
    "\n",
    "# original tweets\n",
    "no_media_org = no_media[no_media['retweet'] != 'retweeted'].reset_index(drop=True)\n",
    "\n",
    "no_media_org = no_media_org.sort_values('retweet_count', ascending = False)\n",
    "\n",
    "# write to excel\n",
    "no_media_org[:1000].to_excel(os.path.join('excel_sheets', 'most_retweeted_orginal_diplomat_no_media.xlsx'), index=False)\n",
    "\n",
    "# only english\n",
    "no_media_org_en = no_media_org[no_media_org['lang'] == 'en']\n",
    "no_media_org_en[:1000].to_excel(os.path.join('excel_sheets', 'most_retweeted_orginal_diplomat_no_media_en.xlsx'), index=False)\n"
   ]
  },
  {
   "cell_type": "markdown",
   "metadata": {},
   "source": [
    "# Media"
   ]
  },
  {
   "cell_type": "markdown",
   "metadata": {},
   "source": [
    "## Photos"
   ]
  },
  {
   "cell_type": "code",
   "execution_count": 11,
   "metadata": {},
   "outputs": [],
   "source": [
    "photo = media[media['photo'] > 0].reset_index(drop=True)\n",
    "photo = photo.drop(columns = ['video', 'tweetID', 'listed_count'])\n",
    "photo_org = photo[photo['retweet'] != 'retweeted'].reset_index(drop=True)\n",
    "photo_org = photo_org.sort_values('retweet_count', ascending = False)\n",
    "\n",
    "# write to excel\n",
    "photo_org[:1000].to_excel(os.path.join('excel_sheets', 'most_retweeted_orginal_media_photos.xlsx'), index=False)\n",
    "\n",
    "# only english\n",
    "photo_org_en = photo_org[photo_org['lang'] == 'en']\n",
    "photo_org_en[:1000].to_excel(os.path.join('excel_sheets', 'most_retweeted_orginal_media_photos_en.xlsx'), index=False)"
   ]
  },
  {
   "cell_type": "markdown",
   "metadata": {},
   "source": [
    "## Videos"
   ]
  },
  {
   "cell_type": "code",
   "execution_count": 12,
   "metadata": {},
   "outputs": [],
   "source": [
    "video = media[media['video'] > 0].reset_index(drop=True)\n",
    "video = video.drop(columns = ['photo', 'url', 'tweetID', 'listed_count'])\n",
    "video_org = video[video['retweet'] != 'retweeted'].reset_index(drop=True)\n",
    "video_org = video_org.sort_values('retweet_count', ascending = False)\n",
    "\n",
    "# write to excel\n",
    "video_org[:1000].to_excel(os.path.join('excel_sheets', 'most_retweeted_orginal_media_videos.xlsx'), index=False)\n",
    "\n",
    "# only english\n",
    "video_org_en = video_org[video_org['lang'] == 'en']\n",
    "video_org_en[:1000].to_excel(os.path.join('excel_sheets', 'most_retweeted_orginal_media_videos_en.xlsx'), index=False)"
   ]
  }
 ],
 "metadata": {
  "kernelspec": {
   "display_name": "Python 3",
   "language": "python",
   "name": "python3"
  },
  "language_info": {
   "codemirror_mode": {
    "name": "ipython",
    "version": 3
   },
   "file_extension": ".py",
   "mimetype": "text/x-python",
   "name": "python",
   "nbconvert_exporter": "python",
   "pygments_lexer": "ipython3",
   "version": "3.9.2 (default, Feb 28 2021, 17:03:44) \n[GCC 10.2.1 20210110]"
  },
  "orig_nbformat": 2,
  "vscode": {
   "interpreter": {
    "hash": "767d51c1340bd893661ea55ea3124f6de3c7a262a8b4abca0554b478b1e2ff90"
   }
  }
 },
 "nbformat": 4,
 "nbformat_minor": 2
}
